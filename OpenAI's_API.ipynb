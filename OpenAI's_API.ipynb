{
  "nbformat": 4,
  "nbformat_minor": 0,
  "metadata": {
    "colab": {
      "provenance": []
    },
    "kernelspec": {
      "name": "python3",
      "display_name": "Python 3"
    },
    "language_info": {
      "name": "python"
    }
  },
  "cells": [
    {
      "cell_type": "markdown",
      "source": [
        "In this example, let's perform a simple task: finding the headerquarter cities and states for a list of firms."
      ],
      "metadata": {
        "id": "oKKCGm0Ki05O"
      }
    },
    {
      "cell_type": "code",
      "execution_count": 2,
      "metadata": {
        "colab": {
          "base_uri": "https://localhost:8080/"
        },
        "id": "-JKd2GXmPCUc",
        "outputId": "e56e384f-b036-4599-89aa-c01202f07758"
      },
      "outputs": [
        {
          "output_type": "stream",
          "name": "stdout",
          "text": [
            "Requirement already satisfied: openai in /usr/local/lib/python3.11/dist-packages (1.75.0)\n",
            "Requirement already satisfied: anyio<5,>=3.5.0 in /usr/local/lib/python3.11/dist-packages (from openai) (4.9.0)\n",
            "Requirement already satisfied: distro<2,>=1.7.0 in /usr/local/lib/python3.11/dist-packages (from openai) (1.9.0)\n",
            "Requirement already satisfied: httpx<1,>=0.23.0 in /usr/local/lib/python3.11/dist-packages (from openai) (0.28.1)\n",
            "Requirement already satisfied: jiter<1,>=0.4.0 in /usr/local/lib/python3.11/dist-packages (from openai) (0.9.0)\n",
            "Requirement already satisfied: pydantic<3,>=1.9.0 in /usr/local/lib/python3.11/dist-packages (from openai) (2.11.3)\n",
            "Requirement already satisfied: sniffio in /usr/local/lib/python3.11/dist-packages (from openai) (1.3.1)\n",
            "Requirement already satisfied: tqdm>4 in /usr/local/lib/python3.11/dist-packages (from openai) (4.67.1)\n",
            "Requirement already satisfied: typing-extensions<5,>=4.11 in /usr/local/lib/python3.11/dist-packages (from openai) (4.13.2)\n",
            "Requirement already satisfied: idna>=2.8 in /usr/local/lib/python3.11/dist-packages (from anyio<5,>=3.5.0->openai) (3.10)\n",
            "Requirement already satisfied: certifi in /usr/local/lib/python3.11/dist-packages (from httpx<1,>=0.23.0->openai) (2025.1.31)\n",
            "Requirement already satisfied: httpcore==1.* in /usr/local/lib/python3.11/dist-packages (from httpx<1,>=0.23.0->openai) (1.0.8)\n",
            "Requirement already satisfied: h11<0.15,>=0.13 in /usr/local/lib/python3.11/dist-packages (from httpcore==1.*->httpx<1,>=0.23.0->openai) (0.14.0)\n",
            "Requirement already satisfied: annotated-types>=0.6.0 in /usr/local/lib/python3.11/dist-packages (from pydantic<3,>=1.9.0->openai) (0.7.0)\n",
            "Requirement already satisfied: pydantic-core==2.33.1 in /usr/local/lib/python3.11/dist-packages (from pydantic<3,>=1.9.0->openai) (2.33.1)\n",
            "Requirement already satisfied: typing-inspection>=0.4.0 in /usr/local/lib/python3.11/dist-packages (from pydantic<3,>=1.9.0->openai) (0.4.0)\n"
          ]
        }
      ],
      "source": [
        "# Install the openai Python package first.\n",
        "\n",
        "!pip install openai"
      ]
    },
    {
      "cell_type": "code",
      "source": [
        "from google.colab import drive\n",
        "drive.mount('/drive')"
      ],
      "metadata": {
        "colab": {
          "base_uri": "https://localhost:8080/"
        },
        "id": "YlpAfbphdkgJ",
        "outputId": "04ed2de9-9411-404c-e9a7-299078b5d61d"
      },
      "execution_count": 3,
      "outputs": [
        {
          "output_type": "stream",
          "name": "stdout",
          "text": [
            "Mounted at /drive\n"
          ]
        }
      ]
    },
    {
      "cell_type": "code",
      "source": [
        "# The api key is stored in a txt file named \"INFO 617 Student API Key.txt\"\n",
        "# You can create an OpenAI client instance once you provide a valid api key.\n",
        "# You will need to update the path to the .txt file\n",
        "\n",
        "from openai import OpenAI\n",
        "with open('/drive/My Drive/Teaching/2025 Spring/INFO 617/OpenAI API Usage/INFO 617 Student API Key.txt', 'r') as file:\n",
        "    api_key = file.read().strip()\n",
        "\n",
        "client = OpenAI(api_key=api_key)"
      ],
      "metadata": {
        "id": "X6opM74fQe7q"
      },
      "execution_count": 4,
      "outputs": []
    },
    {
      "cell_type": "code",
      "source": [
        "# Load the dataset containing a list of companies and the country where a firm is based.\n",
        "# You will need to update the path to the .xlsx file\n",
        "\n",
        "import pandas as pd\n",
        "firms = pd.read_excel('/drive/My Drive/Teaching/2025 Spring/INFO 617/OpenAI API Usage/List of Firms with Countries.xlsx')\n",
        "print(firms.head())"
      ],
      "metadata": {
        "colab": {
          "base_uri": "https://localhost:8080/"
        },
        "id": "yO5rtYdId7jJ",
        "outputId": "7c297cf9-d26f-4df1-8fd5-62f181488553"
      },
      "execution_count": 34,
      "outputs": [
        {
          "output_type": "stream",
          "name": "stdout",
          "text": [
            "                           name country\n",
            "0             1-800-FLOWERS.COM     USA\n",
            "1                        2U INC     USA\n",
            "2  37 INTERACTIVE ENTERTAINMENT     CHN\n",
            "3               3D SYSTEMS CORP     USA\n",
            "4                         3M CO     USA\n"
          ]
        }
      ]
    },
    {
      "cell_type": "code",
      "source": [
        "# A user prompt I designed for this task.\n",
        "\n",
        "prompt = \"Identify the headquarters (city and state) for each firm in the list below. \\\n",
        "    The firms are separated by semicolons, and their nationalities are indicated in parentheses. \\\n",
        "    Return the headquarters information for each firm in the following format:  Firm Name (Nationality): City, State.\\n \\\n",
        "    Ten firms are listed as follows.\\n\"\n",
        "\n",
        "print(prompt)"
      ],
      "metadata": {
        "colab": {
          "base_uri": "https://localhost:8080/"
        },
        "id": "gIf0ZgBeeYIR",
        "outputId": "5669eed1-11be-4e77-bae9-2e1a33ef61be"
      },
      "execution_count": 22,
      "outputs": [
        {
          "output_type": "stream",
          "name": "stdout",
          "text": [
            "Identify the headquarters (city and state) for each firm in the list below.     The firms are separated by semicolons, and their nationalities are indicated in parentheses.     Return the headquarters information for each firm in the following format:  Firm Name (Nationality): City, State.\n",
            "     Ten firms are listed as follows.\n",
            "\n"
          ]
        }
      ]
    },
    {
      "cell_type": "code",
      "source": [
        "# Prepare the data to be inserted into the prompt.\n",
        "\n",
        "firms['combined'] = firms['name'] + ' (' + firms['country'] + ');'\n",
        "firms.head()"
      ],
      "metadata": {
        "colab": {
          "base_uri": "https://localhost:8080/",
          "height": 206
        },
        "id": "1EZ6gB6ofR16",
        "outputId": "a5db3024-914d-4403-8753-e365199a149a"
      },
      "execution_count": 14,
      "outputs": [
        {
          "output_type": "execute_result",
          "data": {
            "text/plain": [
              "                           name country                             combined\n",
              "0             1-800-FLOWERS.COM     USA             1-800-FLOWERS.COM (USA);\n",
              "1                        2U INC     USA                        2U INC (USA);\n",
              "2  37 INTERACTIVE ENTERTAINMENT     CHN  37 INTERACTIVE ENTERTAINMENT (CHN);\n",
              "3               3D SYSTEMS CORP     USA               3D SYSTEMS CORP (USA);\n",
              "4                         3M CO     USA                         3M CO (USA);"
            ],
            "text/html": [
              "\n",
              "  <div id=\"df-9ad846ba-4734-49c6-94fa-5c3089caca9d\" class=\"colab-df-container\">\n",
              "    <div>\n",
              "<style scoped>\n",
              "    .dataframe tbody tr th:only-of-type {\n",
              "        vertical-align: middle;\n",
              "    }\n",
              "\n",
              "    .dataframe tbody tr th {\n",
              "        vertical-align: top;\n",
              "    }\n",
              "\n",
              "    .dataframe thead th {\n",
              "        text-align: right;\n",
              "    }\n",
              "</style>\n",
              "<table border=\"1\" class=\"dataframe\">\n",
              "  <thead>\n",
              "    <tr style=\"text-align: right;\">\n",
              "      <th></th>\n",
              "      <th>name</th>\n",
              "      <th>country</th>\n",
              "      <th>combined</th>\n",
              "    </tr>\n",
              "  </thead>\n",
              "  <tbody>\n",
              "    <tr>\n",
              "      <th>0</th>\n",
              "      <td>1-800-FLOWERS.COM</td>\n",
              "      <td>USA</td>\n",
              "      <td>1-800-FLOWERS.COM (USA);</td>\n",
              "    </tr>\n",
              "    <tr>\n",
              "      <th>1</th>\n",
              "      <td>2U INC</td>\n",
              "      <td>USA</td>\n",
              "      <td>2U INC (USA);</td>\n",
              "    </tr>\n",
              "    <tr>\n",
              "      <th>2</th>\n",
              "      <td>37 INTERACTIVE ENTERTAINMENT</td>\n",
              "      <td>CHN</td>\n",
              "      <td>37 INTERACTIVE ENTERTAINMENT (CHN);</td>\n",
              "    </tr>\n",
              "    <tr>\n",
              "      <th>3</th>\n",
              "      <td>3D SYSTEMS CORP</td>\n",
              "      <td>USA</td>\n",
              "      <td>3D SYSTEMS CORP (USA);</td>\n",
              "    </tr>\n",
              "    <tr>\n",
              "      <th>4</th>\n",
              "      <td>3M CO</td>\n",
              "      <td>USA</td>\n",
              "      <td>3M CO (USA);</td>\n",
              "    </tr>\n",
              "  </tbody>\n",
              "</table>\n",
              "</div>\n",
              "    <div class=\"colab-df-buttons\">\n",
              "\n",
              "  <div class=\"colab-df-container\">\n",
              "    <button class=\"colab-df-convert\" onclick=\"convertToInteractive('df-9ad846ba-4734-49c6-94fa-5c3089caca9d')\"\n",
              "            title=\"Convert this dataframe to an interactive table.\"\n",
              "            style=\"display:none;\">\n",
              "\n",
              "  <svg xmlns=\"http://www.w3.org/2000/svg\" height=\"24px\" viewBox=\"0 -960 960 960\">\n",
              "    <path d=\"M120-120v-720h720v720H120Zm60-500h600v-160H180v160Zm220 220h160v-160H400v160Zm0 220h160v-160H400v160ZM180-400h160v-160H180v160Zm440 0h160v-160H620v160ZM180-180h160v-160H180v160Zm440 0h160v-160H620v160Z\"/>\n",
              "  </svg>\n",
              "    </button>\n",
              "\n",
              "  <style>\n",
              "    .colab-df-container {\n",
              "      display:flex;\n",
              "      gap: 12px;\n",
              "    }\n",
              "\n",
              "    .colab-df-convert {\n",
              "      background-color: #E8F0FE;\n",
              "      border: none;\n",
              "      border-radius: 50%;\n",
              "      cursor: pointer;\n",
              "      display: none;\n",
              "      fill: #1967D2;\n",
              "      height: 32px;\n",
              "      padding: 0 0 0 0;\n",
              "      width: 32px;\n",
              "    }\n",
              "\n",
              "    .colab-df-convert:hover {\n",
              "      background-color: #E2EBFA;\n",
              "      box-shadow: 0px 1px 2px rgba(60, 64, 67, 0.3), 0px 1px 3px 1px rgba(60, 64, 67, 0.15);\n",
              "      fill: #174EA6;\n",
              "    }\n",
              "\n",
              "    .colab-df-buttons div {\n",
              "      margin-bottom: 4px;\n",
              "    }\n",
              "\n",
              "    [theme=dark] .colab-df-convert {\n",
              "      background-color: #3B4455;\n",
              "      fill: #D2E3FC;\n",
              "    }\n",
              "\n",
              "    [theme=dark] .colab-df-convert:hover {\n",
              "      background-color: #434B5C;\n",
              "      box-shadow: 0px 1px 3px 1px rgba(0, 0, 0, 0.15);\n",
              "      filter: drop-shadow(0px 1px 2px rgba(0, 0, 0, 0.3));\n",
              "      fill: #FFFFFF;\n",
              "    }\n",
              "  </style>\n",
              "\n",
              "    <script>\n",
              "      const buttonEl =\n",
              "        document.querySelector('#df-9ad846ba-4734-49c6-94fa-5c3089caca9d button.colab-df-convert');\n",
              "      buttonEl.style.display =\n",
              "        google.colab.kernel.accessAllowed ? 'block' : 'none';\n",
              "\n",
              "      async function convertToInteractive(key) {\n",
              "        const element = document.querySelector('#df-9ad846ba-4734-49c6-94fa-5c3089caca9d');\n",
              "        const dataTable =\n",
              "          await google.colab.kernel.invokeFunction('convertToInteractive',\n",
              "                                                    [key], {});\n",
              "        if (!dataTable) return;\n",
              "\n",
              "        const docLinkHtml = 'Like what you see? Visit the ' +\n",
              "          '<a target=\"_blank\" href=https://colab.research.google.com/notebooks/data_table.ipynb>data table notebook</a>'\n",
              "          + ' to learn more about interactive tables.';\n",
              "        element.innerHTML = '';\n",
              "        dataTable['output_type'] = 'display_data';\n",
              "        await google.colab.output.renderOutput(dataTable, element);\n",
              "        const docLink = document.createElement('div');\n",
              "        docLink.innerHTML = docLinkHtml;\n",
              "        element.appendChild(docLink);\n",
              "      }\n",
              "    </script>\n",
              "  </div>\n",
              "\n",
              "\n",
              "    <div id=\"df-0eccc367-83bd-41c4-9e41-823ea613950f\">\n",
              "      <button class=\"colab-df-quickchart\" onclick=\"quickchart('df-0eccc367-83bd-41c4-9e41-823ea613950f')\"\n",
              "                title=\"Suggest charts\"\n",
              "                style=\"display:none;\">\n",
              "\n",
              "<svg xmlns=\"http://www.w3.org/2000/svg\" height=\"24px\"viewBox=\"0 0 24 24\"\n",
              "     width=\"24px\">\n",
              "    <g>\n",
              "        <path d=\"M19 3H5c-1.1 0-2 .9-2 2v14c0 1.1.9 2 2 2h14c1.1 0 2-.9 2-2V5c0-1.1-.9-2-2-2zM9 17H7v-7h2v7zm4 0h-2V7h2v10zm4 0h-2v-4h2v4z\"/>\n",
              "    </g>\n",
              "</svg>\n",
              "      </button>\n",
              "\n",
              "<style>\n",
              "  .colab-df-quickchart {\n",
              "      --bg-color: #E8F0FE;\n",
              "      --fill-color: #1967D2;\n",
              "      --hover-bg-color: #E2EBFA;\n",
              "      --hover-fill-color: #174EA6;\n",
              "      --disabled-fill-color: #AAA;\n",
              "      --disabled-bg-color: #DDD;\n",
              "  }\n",
              "\n",
              "  [theme=dark] .colab-df-quickchart {\n",
              "      --bg-color: #3B4455;\n",
              "      --fill-color: #D2E3FC;\n",
              "      --hover-bg-color: #434B5C;\n",
              "      --hover-fill-color: #FFFFFF;\n",
              "      --disabled-bg-color: #3B4455;\n",
              "      --disabled-fill-color: #666;\n",
              "  }\n",
              "\n",
              "  .colab-df-quickchart {\n",
              "    background-color: var(--bg-color);\n",
              "    border: none;\n",
              "    border-radius: 50%;\n",
              "    cursor: pointer;\n",
              "    display: none;\n",
              "    fill: var(--fill-color);\n",
              "    height: 32px;\n",
              "    padding: 0;\n",
              "    width: 32px;\n",
              "  }\n",
              "\n",
              "  .colab-df-quickchart:hover {\n",
              "    background-color: var(--hover-bg-color);\n",
              "    box-shadow: 0 1px 2px rgba(60, 64, 67, 0.3), 0 1px 3px 1px rgba(60, 64, 67, 0.15);\n",
              "    fill: var(--button-hover-fill-color);\n",
              "  }\n",
              "\n",
              "  .colab-df-quickchart-complete:disabled,\n",
              "  .colab-df-quickchart-complete:disabled:hover {\n",
              "    background-color: var(--disabled-bg-color);\n",
              "    fill: var(--disabled-fill-color);\n",
              "    box-shadow: none;\n",
              "  }\n",
              "\n",
              "  .colab-df-spinner {\n",
              "    border: 2px solid var(--fill-color);\n",
              "    border-color: transparent;\n",
              "    border-bottom-color: var(--fill-color);\n",
              "    animation:\n",
              "      spin 1s steps(1) infinite;\n",
              "  }\n",
              "\n",
              "  @keyframes spin {\n",
              "    0% {\n",
              "      border-color: transparent;\n",
              "      border-bottom-color: var(--fill-color);\n",
              "      border-left-color: var(--fill-color);\n",
              "    }\n",
              "    20% {\n",
              "      border-color: transparent;\n",
              "      border-left-color: var(--fill-color);\n",
              "      border-top-color: var(--fill-color);\n",
              "    }\n",
              "    30% {\n",
              "      border-color: transparent;\n",
              "      border-left-color: var(--fill-color);\n",
              "      border-top-color: var(--fill-color);\n",
              "      border-right-color: var(--fill-color);\n",
              "    }\n",
              "    40% {\n",
              "      border-color: transparent;\n",
              "      border-right-color: var(--fill-color);\n",
              "      border-top-color: var(--fill-color);\n",
              "    }\n",
              "    60% {\n",
              "      border-color: transparent;\n",
              "      border-right-color: var(--fill-color);\n",
              "    }\n",
              "    80% {\n",
              "      border-color: transparent;\n",
              "      border-right-color: var(--fill-color);\n",
              "      border-bottom-color: var(--fill-color);\n",
              "    }\n",
              "    90% {\n",
              "      border-color: transparent;\n",
              "      border-bottom-color: var(--fill-color);\n",
              "    }\n",
              "  }\n",
              "</style>\n",
              "\n",
              "      <script>\n",
              "        async function quickchart(key) {\n",
              "          const quickchartButtonEl =\n",
              "            document.querySelector('#' + key + ' button');\n",
              "          quickchartButtonEl.disabled = true;  // To prevent multiple clicks.\n",
              "          quickchartButtonEl.classList.add('colab-df-spinner');\n",
              "          try {\n",
              "            const charts = await google.colab.kernel.invokeFunction(\n",
              "                'suggestCharts', [key], {});\n",
              "          } catch (error) {\n",
              "            console.error('Error during call to suggestCharts:', error);\n",
              "          }\n",
              "          quickchartButtonEl.classList.remove('colab-df-spinner');\n",
              "          quickchartButtonEl.classList.add('colab-df-quickchart-complete');\n",
              "        }\n",
              "        (() => {\n",
              "          let quickchartButtonEl =\n",
              "            document.querySelector('#df-0eccc367-83bd-41c4-9e41-823ea613950f button');\n",
              "          quickchartButtonEl.style.display =\n",
              "            google.colab.kernel.accessAllowed ? 'block' : 'none';\n",
              "        })();\n",
              "      </script>\n",
              "    </div>\n",
              "\n",
              "    </div>\n",
              "  </div>\n"
            ],
            "application/vnd.google.colaboratory.intrinsic+json": {
              "type": "dataframe",
              "variable_name": "firms",
              "summary": "{\n  \"name\": \"firms\",\n  \"rows\": 4384,\n  \"fields\": [\n    {\n      \"column\": \"name\",\n      \"properties\": {\n        \"dtype\": \"string\",\n        \"num_unique_values\": 4384,\n        \"samples\": [\n          \"CASA GRANDE SAA\",\n          \"MCKESSON EUROPE AG\",\n          \"BWX LTD\"\n        ],\n        \"semantic_type\": \"\",\n        \"description\": \"\"\n      }\n    },\n    {\n      \"column\": \"country\",\n      \"properties\": {\n        \"dtype\": \"category\",\n        \"num_unique_values\": 69,\n        \"samples\": [\n          \"RUS\",\n          \"USA\",\n          \"BMU\"\n        ],\n        \"semantic_type\": \"\",\n        \"description\": \"\"\n      }\n    },\n    {\n      \"column\": \"combined\",\n      \"properties\": {\n        \"dtype\": \"string\",\n        \"num_unique_values\": 4384,\n        \"samples\": [\n          \"CASA GRANDE SAA (PER);\",\n          \"MCKESSON EUROPE AG (DEU);\",\n          \"BWX LTD (AUS);\"\n        ],\n        \"semantic_type\": \"\",\n        \"description\": \"\"\n      }\n    }\n  ]\n}"
            }
          },
          "metadata": {},
          "execution_count": 14
        }
      ]
    },
    {
      "cell_type": "code",
      "source": [
        "# Combine the fixed prompt with the data.\n",
        "\n",
        "firm_list = ' '.join(firms['combined'].iloc[:10])\n",
        "firm_prompt = prompt + '\"\"\"\\n' + firm_list + '\\n\"\"\"'\n",
        "print(firm_prompt)"
      ],
      "metadata": {
        "colab": {
          "base_uri": "https://localhost:8080/"
        },
        "id": "hG64MvsQfuih",
        "outputId": "c0b77d96-1b71-4da3-9099-10cade90bb11"
      },
      "execution_count": 23,
      "outputs": [
        {
          "output_type": "stream",
          "name": "stdout",
          "text": [
            "Identify the headquarters (city and state) for each firm in the list below.     The firms are separated by semicolons, and their nationalities are indicated in parentheses.     Return the headquarters information for each firm in the following format:  Firm Name (Nationality): City, State.\n",
            "     Ten firms are listed as follows.\n",
            "\"\"\"\n",
            "1-800-FLOWERS.COM (USA); 2U INC (USA); 37 INTERACTIVE ENTERTAINMENT (CHN); 3D SYSTEMS CORP (USA); 3M CO (USA); 3P LEARNING LTD (AUS); 4IMPRINT GROUP PLC (GBR); 51JOB INC (CHN); 888 HOLDINGS (GIB); 8X8 INC (USA);\n",
            "\"\"\"\n"
          ]
        }
      ]
    },
    {
      "cell_type": "code",
      "source": [
        "# Request an api response from openai.\n",
        "# Here, we use a very recent, capable model -- gpt-4.1-mini.\n",
        "# Learn more about the model here: https://openai.com/index/gpt-4-1/\n",
        "\n",
        "response = client.responses.create(\n",
        "  model=\"gpt-4.1-mini\",\n",
        "  input=firm_prompt\n",
        ")"
      ],
      "metadata": {
        "colab": {
          "base_uri": "https://localhost:8080/"
        },
        "id": "NilPBHiaeUd5",
        "outputId": "1694e543-a0d9-4b42-8114-d130c67109d8"
      },
      "execution_count": 24,
      "outputs": [
        {
          "output_type": "stream",
          "name": "stdout",
          "text": [
            "Response(id='resp_680be940f72c8191872cb5edfe144ff50790ac16c4a41aa2', created_at=1745611072.0, error=None, incomplete_details=None, instructions=None, metadata={}, model='gpt-4.1-mini-2025-04-14', object='response', output=[ResponseOutputMessage(id='msg_680be94173d481918d5edec02ccfce390790ac16c4a41aa2', content=[ResponseOutputText(annotations=[], text='1-800-FLOWERS.COM (USA): Carle Place, New York  \\n2U INC (USA): Lanham, Maryland  \\n37 INTERACTIVE ENTERTAINMENT (CHN): Beijing, China  \\n3D SYSTEMS CORP (USA): Rock Hill, South Carolina  \\n3M CO (USA): Saint Paul, Minnesota  \\n3P LEARNING LTD (AUS): Brisbane, Queensland  \\n4IMPRINT GROUP PLC (GBR): London, England  \\n51JOB INC (CHN): Shanghai, China  \\n888 HOLDINGS (GIB): Gibraltar  \\n8X8 INC (USA): Campbell, California', type='output_text')], role='assistant', status='completed', type='message')], parallel_tool_calls=True, temperature=1.0, tool_choice='auto', tools=[], top_p=1.0, max_output_tokens=None, previous_response_id=None, reasoning=Reasoning(effort=None, generate_summary=None, summary=None), service_tier='default', status='completed', text=ResponseTextConfig(format=ResponseFormatText(type='text')), truncation='disabled', usage=ResponseUsage(input_tokens=164, input_tokens_details=InputTokensDetails(cached_tokens=0), output_tokens=125, output_tokens_details=OutputTokensDetails(reasoning_tokens=0), total_tokens=289), user=None, store=True)\n"
          ]
        }
      ]
    },
    {
      "cell_type": "code",
      "source": [
        "# It returns a list of texts, with each row starting from a firm's name, followed by its headquarter city and state.\n",
        "\n",
        "print(response.output[0].content[0].text)"
      ],
      "metadata": {
        "colab": {
          "base_uri": "https://localhost:8080/"
        },
        "id": "sbCOdazEh6T9",
        "outputId": "50f23d05-5175-4845-e01b-2b107c2d9a2c"
      },
      "execution_count": 33,
      "outputs": [
        {
          "output_type": "stream",
          "name": "stdout",
          "text": [
            "1-800-FLOWERS.COM (USA): Carle Place, New York  \n",
            "2U INC (USA): Lanham, Maryland  \n",
            "37 INTERACTIVE ENTERTAINMENT (CHN): Beijing, China  \n",
            "3D SYSTEMS CORP (USA): Rock Hill, South Carolina  \n",
            "3M CO (USA): Saint Paul, Minnesota  \n",
            "3P LEARNING LTD (AUS): Brisbane, Queensland  \n",
            "4IMPRINT GROUP PLC (GBR): London, England  \n",
            "51JOB INC (CHN): Shanghai, China  \n",
            "888 HOLDINGS (GIB): Gibraltar  \n",
            "8X8 INC (USA): Campbell, California\n"
          ]
        }
      ]
    },
    {
      "cell_type": "code",
      "source": [
        "# With proper parsing, we can save the results in a csv/xlsx file.\n",
        "\n",
        "results = pd.DataFrame([se.split(':') for se in response.output[0].content[0].text.split('\\n')], columns = ['Company', 'Headerquarter'])\n",
        "results[['City', 'State']] = results['Headerquarter'].str.split(',', expand=True)\n",
        "print(results.head())"
      ],
      "metadata": {
        "colab": {
          "base_uri": "https://localhost:8080/"
        },
        "id": "l2smRbx5ktSB",
        "outputId": "af144d2e-e50a-425b-a6b8-89e66411ff6e"
      },
      "execution_count": 39,
      "outputs": [
        {
          "output_type": "stream",
          "name": "stdout",
          "text": [
            "                              Company                 Headerquarter  \\\n",
            "0             1-800-FLOWERS.COM (USA)       Carle Place, New York     \n",
            "1                        2U INC (USA)            Lanham, Maryland     \n",
            "2  37 INTERACTIVE ENTERTAINMENT (CHN)              Beijing, China     \n",
            "3               3D SYSTEMS CORP (USA)   Rock Hill, South Carolina     \n",
            "4                         3M CO (USA)       Saint Paul, Minnesota     \n",
            "\n",
            "           City              State  \n",
            "0   Carle Place         New York    \n",
            "1        Lanham         Maryland    \n",
            "2       Beijing            China    \n",
            "3     Rock Hill   South Carolina    \n",
            "4    Saint Paul        Minnesota    \n"
          ]
        }
      ]
    }
  ]
}